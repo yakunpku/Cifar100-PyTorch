{
 "cells": [
  {
   "cell_type": "code",
   "execution_count": 1,
   "metadata": {},
   "outputs": [],
   "source": [
    "import cv2\n",
    "import numpy as np\n",
    "import tqdm\n",
    "import pickle\n",
    "import os\n",
    "import matplotlib.pyplot as plt"
   ]
  },
  {
   "cell_type": "code",
   "execution_count": 2,
   "metadata": {},
   "outputs": [],
   "source": [
    "# unexpress the dataset\n",
    "def unpickle(file):\n",
    "    with open(file, 'rb') as fr:\n",
    "        res = pickle.load(fr, encoding='latin1')\n",
    "    return res"
   ]
  },
  {
   "cell_type": "code",
   "execution_count": 3,
   "metadata": {},
   "outputs": [],
   "source": [
    "def save_images(data_base, X, phase, fine_label_names):\n",
    "    assert phase in ['train', 'test']\n",
    "    save_img_dir = os.path.join(data_base, phase, 'images')\n",
    "    os.makedirs(save_img_dir, exist_ok=True)\n",
    "    img_list = []\n",
    "    pbar = tqdm.tqdm(total=X['data'].shape[0])\n",
    "    for i in range(X['data'].shape[0]):\n",
    "        pbar.update(1)\n",
    "        img = X['data'][i].reshape((3, 32, 32))\n",
    "        img = img.transpose(1, 2, 0)\n",
    "        img_name = \"{:05d}_{}_{}.jpg\".format(i, X['fine_labels'][i], fine_label_names[X['fine_labels'][i]])\n",
    "        pbar.set_description(img_name)\n",
    "        img_list.append(img_name)\n",
    "        img_path = os.path.join(save_img_dir, img_name)\n",
    "        cv2.imwrite(img_path, cv2.cvtColor(img, cv2.COLOR_RGB2BGR))\n",
    "\n",
    "    with open(os.path.join(data_base, phase, 'image.list'), 'w') as f:\n",
    "        for img_name in img_list:\n",
    "            f.write('{}\\n'.format(img_name))"
   ]
  },
  {
   "cell_type": "code",
   "execution_count": 4,
   "metadata": {},
   "outputs": [],
   "source": [
    "data_base = \"/data/Images/cifar100/source\"\n",
    "source_dir = os.path.join(data_base, 'cifar-100-python')\n",
    "train_dir = os.path.join(data_base, 'train')\n",
    "test_dir = os.path.join(data_base, 'test')\n",
    "os.makedirs(train_dir, exist_ok=True)\n",
    "os.makedirs(test_dir, exist_ok=True)"
   ]
  },
  {
   "cell_type": "code",
   "execution_count": 5,
   "metadata": {},
   "outputs": [],
   "source": [
    "meta_name = os.path.join(source_dir, 'meta') \n",
    "meta_dict = unpickle(meta_name)\n",
    "coarse_label_names = meta_dict['coarse_label_names']\n",
    "fine_label_names = meta_dict['fine_label_names']"
   ]
  },
  {
   "cell_type": "code",
   "execution_count": 6,
   "metadata": {},
   "outputs": [
    {
     "name": "stdout",
     "output_type": "stream",
     "text": [
      "20\n"
     ]
    }
   ],
   "source": [
    "print(len(coarse_label_names))"
   ]
  },
  {
   "cell_type": "code",
   "execution_count": 7,
   "metadata": {},
   "outputs": [
    {
     "name": "stdout",
     "output_type": "stream",
     "text": [
      "100\n"
     ]
    }
   ],
   "source": [
    "print(len(fine_label_names))"
   ]
  },
  {
   "cell_type": "markdown",
   "metadata": {},
   "source": [
    "## Save cifar100 train images"
   ]
  },
  {
   "cell_type": "code",
   "execution_count": 8,
   "metadata": {},
   "outputs": [],
   "source": [
    "train_data = os.path.join(source_dir, 'train')\n",
    "X = unpickle(train_data)"
   ]
  },
  {
   "cell_type": "code",
   "execution_count": 9,
   "metadata": {},
   "outputs": [
    {
     "data": {
      "text/plain": [
       "dict_keys(['filenames', 'batch_label', 'fine_labels', 'coarse_labels', 'data'])"
      ]
     },
     "execution_count": 9,
     "metadata": {},
     "output_type": "execute_result"
    }
   ],
   "source": [
    "X.keys()"
   ]
  },
  {
   "cell_type": "code",
   "execution_count": 10,
   "metadata": {},
   "outputs": [
    {
     "data": {
      "text/plain": [
       "'cattle'"
      ]
     },
     "execution_count": 10,
     "metadata": {},
     "output_type": "execute_result"
    }
   ],
   "source": [
    "fine_label_names[X['fine_labels'][0]]"
   ]
  },
  {
   "cell_type": "code",
   "execution_count": 11,
   "metadata": {},
   "outputs": [
    {
     "data": {
      "text/plain": [
       "<matplotlib.image.AxesImage at 0x7fd95344c450>"
      ]
     },
     "execution_count": 11,
     "metadata": {},
     "output_type": "execute_result"
    },
    {
     "data": {
      "image/png": "[encoded data removed]",
      "text/plain": [
       "<Figure size 432x288 with 1 Axes>"
      ]
     },
     "metadata": {
      "needs_background": "light"
     },
     "output_type": "display_data"
    }
   ],
   "source": [
    "img = X['data'][0].reshape((3, 32, 32))\n",
    "img = img.transpose(1, 2, 0)\n",
    "plt.imshow(img)"
   ]
  },
  {
   "cell_type": "code",
   "execution_count": 12,
   "metadata": {},
   "outputs": [],
   "source": [
    "save_images(data_base, X, 'train', fine_label_names)"
   ]
  },
  {
   "cell_type": "code",
   "execution_count": 13,
   "metadata": {},
   "outputs": [],
   "source": [
    "img_list = np.loadtxt('/data/Images/cifar100/source/train/image.list', dtype=np.str)"
   ]
  },
  {
   "cell_type": "code",
   "execution_count": 14,
   "metadata": {},
   "outputs": [
    {
     "data": {
      "text/plain": [
       "(50000,)"
      ]
     },
     "execution_count": 14,
     "metadata": {},
     "output_type": "execute_result"
    }
   ],
   "source": [
    "img_list.shape"
   ]
  },
  {
   "cell_type": "code",
   "execution_count": 16,
   "metadata": {},
   "outputs": [
    {
     "data": {
      "text/plain": [
       "array(['00000_19_cattle.jpg', '00001_29_dinosaur.jpg',\n",
       "       '00002_0_apple.jpg', '00003_11_boy.jpg',\n",
       "       '00004_1_aquarium_fish.jpg', '00005_86_telephone.jpg',\n",
       "       '00006_90_train.jpg', '00007_28_cup.jpg', '00008_23_cloud.jpg',\n",
       "       '00009_31_elephant.jpg', '00010_39_keyboard.jpg',\n",
       "       '00011_96_willow_tree.jpg', '00012_82_sunflower.jpg',\n",
       "       '00013_17_castle.jpg', '00014_71_sea.jpg', '00015_39_keyboard.jpg',\n",
       "       '00016_8_bicycle.jpg', '00017_97_wolf.jpg',\n",
       "       '00018_80_squirrel.jpg', '00019_71_sea.jpg', '00020_74_shrew.jpg',\n",
       "       '00021_59_pine_tree.jpg', '00022_70_rose.jpg',\n",
       "       '00023_87_television.jpg', '00024_59_pine_tree.jpg',\n",
       "       '00025_84_table.jpg', '00026_64_possum.jpg',\n",
       "       '00027_52_oak_tree.jpg', '00028_42_leopard.jpg',\n",
       "       '00029_64_possum.jpg', '00030_8_bicycle.jpg',\n",
       "       '00031_17_castle.jpg', '00032_47_maple_tree.jpg',\n",
       "       '00033_65_rabbit.jpg', '00034_21_chimpanzee.jpg',\n",
       "       '00035_22_clock.jpg', '00036_81_streetcar.jpg', '00037_11_boy.jpg',\n",
       "       '00038_24_cockroach.jpg', '00039_84_table.jpg',\n",
       "       '00040_78_snake.jpg', '00041_45_lobster.jpg',\n",
       "       '00042_49_mountain.jpg', '00043_97_wolf.jpg',\n",
       "       '00044_56_palm_tree.jpg', '00045_76_skyscraper.jpg',\n",
       "       '00046_11_boy.jpg', '00047_90_train.jpg', '00048_89_tractor.jpg',\n",
       "       '00049_78_snake.jpg'], dtype='<U25')"
      ]
     },
     "execution_count": 16,
     "metadata": {},
     "output_type": "execute_result"
    }
   ],
   "source": [
    "img_list[:50]"
   ]
  },
  {
   "cell_type": "markdown",
   "metadata": {},
   "source": [
    "## Save cifar100 test images"
   ]
  },
  {
   "cell_type": "code",
   "execution_count": 17,
   "metadata": {},
   "outputs": [],
   "source": [
    "test_data = os.path.join(source_dir, 'test')\n",
    "Y = unpickle(test_data)"
   ]
  },
  {
   "cell_type": "code",
   "execution_count": 18,
   "metadata": {},
   "outputs": [
    {
     "data": {
      "text/plain": [
       "dict_keys(['filenames', 'batch_label', 'fine_labels', 'coarse_labels', 'data'])"
      ]
     },
     "execution_count": 18,
     "metadata": {},
     "output_type": "execute_result"
    }
   ],
   "source": [
    "Y.keys()"
   ]
  },
  {
   "cell_type": "code",
   "execution_count": 19,
   "metadata": {},
   "outputs": [
    {
     "data": {
      "text/plain": [
       "'mountain'"
      ]
     },
     "execution_count": 19,
     "metadata": {},
     "output_type": "execute_result"
    }
   ],
   "source": [
    "fine_label_names[Y['fine_labels'][0]]"
   ]
  },
  {
   "cell_type": "code",
   "execution_count": 20,
   "metadata": {},
   "outputs": [
    {
     "data": {
      "text/plain": [
       "<matplotlib.image.AxesImage at 0x7fd9532cb0d0>"
      ]
     },
     "execution_count": 20,
     "metadata": {},
     "output_type": "execute_result"
    },
    {
     "data": {
      "image/png": "[encoded data removed]",
      "text/plain": [
       "<Figure size 432x288 with 1 Axes>"
      ]
     },
     "metadata": {
      "needs_background": "light"
     },
     "output_type": "display_data"
    }
   ],
   "source": [
    "img = Y['data'][0].reshape((3, 32, 32))\n",
    "img = img.transpose(1, 2, 0)\n",
    "plt.imshow(img)"
   ]
  },
  {
   "cell_type": "code",
   "execution_count": 21,
   "metadata": {},
   "outputs": [],
   "source": [
    "save_images(data_base, Y, 'test', fine_label_names)"
   ]
  },
  {
   "cell_type": "code",
   "execution_count": null,
   "metadata": {},
   "outputs": [],
   "source": []
  }
 ],
 "metadata": {
  "kernelspec": {
   "display_name": "Python 3",
   "language": "python",
   "name": "python3"
  },
  "language_info": {
   "codemirror_mode": {
    "name": "ipython",
    "version": 3
   },
   "file_extension": ".py",
   "mimetype": "text/x-python",
   "name": "python",
   "nbconvert_exporter": "python",
   "pygments_lexer": "ipython3",
   "version": "3.7.9"
  }
 },
 "nbformat": 4,
 "nbformat_minor": 2
}
